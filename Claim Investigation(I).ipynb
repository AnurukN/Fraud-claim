{
  "cells": [
    {
      "cell_type": "code",
      "source": [
        "import numpy as np\n",
        "import pandas as pd\n",
        "import seaborn as sns\n",
        "import datetime as dt\n",
        "import matplotlib.pyplot as plt\n",
        "import sys\n",
        "pd.set_option('display.max_columns', None)\n",
        "np.set_printoptions(threshold=sys.maxsize)"
      ],
      "outputs": [],
      "execution_count": 2,
      "metadata": {}
    },
    {
      "cell_type": "markdown",
      "source": [
        "ER Diagram\n",
        "<img src=\"TL Claim ER-Diagram-Page-1_new.png\">"
      ],
      "metadata": {}
    },
    {
      "cell_type": "code",
      "source": [
        "#global variable\n",
        "claim_expense = 'aida_claim_expense_202001131128.csv'\n",
        "claim = 'aida_claim_202001130931.csv'\n",
        "policy_info = 'aida_policy_info_202001131149.csv'\n",
        "customer_address = 'aida_customer_address_202001131147.csv'\n",
        "hospital =''\n",
        "customer_info = 'aida_customer_info_202001131148.csv'\n",
        "policy_rider_info =''\n",
        "agent_structure = 'aida_agent_structure_202001130943.csv'\n",
        "beneficary = 'aida_beneficiary_202001130942.csv'\n",
        "    \n",
        "    \n",
        "claim_expense_data  = pd.read_csv(claim_expense)\n",
        "claim_data = pd.read_csv(claim) \n",
        "policy_info_data = pd.read_csv(policy_info) \n",
        "customer_address_data = pd.read_csv(customer_address) \n",
        "customer_info_data = pd.read_csv(customer_info)\n",
        "agent_structure_data = pd.read_csv(agent_structure)\n",
        "beneficary_data = pd.read_csv(beneficary)\n",
        "            "
      ],
      "outputs": [
        {
          "output_type": "stream",
          "name": "stderr",
          "text": [
            "D:\\ProgramData\\Anaconda3\\lib\\site-packages\\IPython\\core\\interactiveshell.py:3049: DtypeWarning: Columns (0) have mixed types. Specify dtype option on import or set low_memory=False.\n",
            "  interactivity=interactivity, compiler=compiler, result=result)\n",
            "D:\\ProgramData\\Anaconda3\\lib\\site-packages\\IPython\\core\\interactiveshell.py:3049: DtypeWarning: Columns (0,5,10) have mixed types. Specify dtype option on import or set low_memory=False.\n",
            "  interactivity=interactivity, compiler=compiler, result=result)\n",
            "D:\\ProgramData\\Anaconda3\\lib\\site-packages\\IPython\\core\\interactiveshell.py:3049: DtypeWarning: Columns (0,3) have mixed types. Specify dtype option on import or set low_memory=False.\n",
            "  interactivity=interactivity, compiler=compiler, result=result)\n",
            "D:\\ProgramData\\Anaconda3\\lib\\site-packages\\IPython\\core\\interactiveshell.py:3049: DtypeWarning: Columns (1) have mixed types. Specify dtype option on import or set low_memory=False.\n",
            "  interactivity=interactivity, compiler=compiler, result=result)\n",
            "D:\\ProgramData\\Anaconda3\\lib\\site-packages\\IPython\\core\\interactiveshell.py:3049: DtypeWarning: Columns (1,2) have mixed types. Specify dtype option on import or set low_memory=False.\n",
            "  interactivity=interactivity, compiler=compiler, result=result)\n"
          ]
        }
      ],
      "execution_count": 3,
      "metadata": {}
    },
    {
      "cell_type": "markdown",
      "source": [
        "We will fucus on only the claim table."
      ],
      "metadata": {}
    },
    {
      "cell_type": "code",
      "source": [
        "claim_data.drop(columns = ['ins_wf_run_id','ppn_tm'], inplace = True)\n",
        "policy_info_data.drop(columns = ['ins_wf_run_id','ppn_tm'], inplace=True)\n",
        "beneficary_data.drop(columns = ['ins_wf_run_id','ppn_tm'], inplace=True)\n",
        "customer_info_data.drop(columns = ['ins_wf_run_id','ppn_tm'], inplace=True)"
      ],
      "outputs": [],
      "execution_count": 4,
      "metadata": {}
    },
    {
      "cell_type": "code",
      "source": [
        "#key to string\n",
        "claim_data['policyno']  =  claim_data['policyno'].astype('str')\n",
        "policy_info_data['policyno']  = policy_info_data['policyno'].astype('str')\n",
        "beneficary_data['policyno']  =  beneficary_data['policyno'].astype('str')\n",
        "customer_info_data['personid']  =  customer_info_data['personid'].astype('str')"
      ],
      "outputs": [],
      "execution_count": 5,
      "metadata": {}
    },
    {
      "cell_type": "markdown",
      "source": [
        "## Main file\n",
        " It include claim, policy_info and customer_info table."
      ],
      "metadata": {}
    },
    {
      "cell_type": "code",
      "source": [
        "#step 1\n",
        "#claim + policy_info\n",
        "all_claim_data_step_1 = claim_data.merge(policy_info_data,  on='policyno', how = 'left')"
      ],
      "outputs": [],
      "execution_count": 6,
      "metadata": {}
    },
    {
      "cell_type": "code",
      "source": [
        "all_claim_data_step_1['personid'] = all_claim_data_step_1['personid'].astype('str') \n",
        "all_claim_data_step_1['personid'] = all_claim_data_step_1['personid'].str[:-2]#Some string is includes .0 ex 9xxxxxxxx.0"
      ],
      "outputs": [],
      "execution_count": 7,
      "metadata": {}
    },
    {
      "cell_type": "code",
      "source": [
        "#step 2\n",
        "#claim + policy_info+customer\n",
        "all_claim_data_step_2 = all_claim_data_step_1.merge(customer_info_data,  on=['personid','policyno'], how = 'left') # represent "
      ],
      "outputs": [],
      "execution_count": 8,
      "metadata": {}
    },
    {
      "cell_type": "markdown",
      "source": [
        "## Beneficary feature engineering"
      ],
      "metadata": {}
    },
    {
      "cell_type": "code",
      "source": [
        "beneficary_data['sequence'] = beneficary_data['sequence'].astype('str') \n",
        "beneficary_data.sequence.unique()"
      ],
      "outputs": [
        {
          "output_type": "execute_result",
          "execution_count": 9,
          "data": {
            "text/plain": [
              "array(['2', '1', '3', '4', '5', '6', '7', '8', '0', '9', 'A'],\n",
              "      dtype=object)"
            ]
          },
          "metadata": {}
        }
      ],
      "execution_count": 9,
      "metadata": {}
    },
    {
      "cell_type": "code",
      "source": [
        "#We will use only 4 relation.\n",
        "# beneficary relation A\n",
        "#beneficary_data_seq_A = beneficary_data[['policytype','policyno']].merge(beneficary_data[beneficary_data['sequence'] == 'A'], on=['policyno'], how = 'left')\n",
        "#beneficary_data_seq_A.drop(columns = ['policytype_x','policytype_y','sequence','personflag'], inplace = True)\n",
        "#beneficary_data_seq_A.rename(columns={\"relationshipcode\": \"relationshipcode_A\", \"percentshare\":\"percentshare_A\"},inplace = True)\n",
        "\n",
        "# beneficary relation 0\n",
        "#beneficary_data_seq_0 = beneficary_data[['policytype','policyno']].merge(beneficary_data[beneficary_data['sequence'] == '0'], on=['policyno'], how = 'left')\n",
        "#beneficary_data_seq_0.drop(columns = ['policytype_x','policytype_y','sequence','personflag'], inplace = True)\n",
        "#beneficary_data_seq_0.rename(columns={\"relationshipcode\": \"relationshipcode_0\", \"percentshare\":\"percentshare_0\"},inplace = True)\n",
        "\n",
        "# beneficary relation 1\n",
        "beneficary_data_seq_1 = beneficary_data[['policytype','policyno']].merge(beneficary_data[beneficary_data['sequence'] == '1'], on=['policyno'], how = 'left')\n",
        "beneficary_data_seq_1.drop(columns = ['policytype_x','policytype_y','sequence','personflag'], inplace = True)\n",
        "beneficary_data_seq_1.rename(columns={\"relationshipcode\": \"relationshipcode_1\", \"percentshare\":\"percentshare_1\"},inplace = True)\n",
        "\n",
        "# beneficary relation 2\n",
        "beneficary_data_seq_2 = beneficary_data[['policytype','policyno']].merge(beneficary_data[beneficary_data['sequence'] == '2'], on=['policyno'], how = 'left')\n",
        "beneficary_data_seq_2.drop(columns = ['policytype_x','policytype_y','sequence','personflag'], inplace = True)\n",
        "beneficary_data_seq_2.rename(columns={\"relationshipcode\": \"relationshipcode_2\", \"percentshare\":\"percentshare_2\"},inplace = True)\n",
        "\n",
        "# beneficary relation 3\n",
        "beneficary_data_seq_3 = beneficary_data[['policytype','policyno']].merge(beneficary_data[beneficary_data['sequence'] == '3'], on=['policyno'], how = 'left')\n",
        "beneficary_data_seq_3.drop(columns = ['policytype_x','policytype_y','sequence','personflag'], inplace = True)\n",
        "beneficary_data_seq_3.rename(columns={\"relationshipcode\": \"relationshipcode_3\", \"percentshare\":\"percentshare_3\"},inplace = True)\n",
        "\n",
        "# beneficary relation 4\n",
        "beneficary_data_seq_4 = beneficary_data[['policytype','policyno']].merge(beneficary_data[beneficary_data['sequence'] == '4'], on=['policyno'], how = 'left')\n",
        "beneficary_data_seq_4.drop(columns = ['policytype_x','policytype_y','sequence','personflag'], inplace = True)\n",
        "beneficary_data_seq_4.rename(columns={\"relationshipcode\": \"relationshipcode_4\", \"percentshare\":\"percentshare_4\"},inplace = True)\n",
        "\n",
        "# beneficary relation 5\n",
        "#beneficary_data_seq_5 = beneficary_data[['policytype','policyno']].merge(beneficary_data[beneficary_data['sequence'] == '5'], on=['policyno'], how = 'left')\n",
        "#beneficary_data_seq_5.drop(columns = ['policytype_x','policytype_y','sequence','personflag'], inplace = True)\n",
        "#beneficary_data_seq_5.rename(columns={\"relationshipcode\": \"relationshipcode_5\", \"percentshare\":\"percentshare_5\"},inplace = True)\n",
        "\n",
        "# beneficary relation 6\n",
        "#beneficary_data_seq_6 = beneficary_data[['policytype','policyno']].merge(beneficary_data[beneficary_data['sequence'] == '6'], on=['policyno'], how = 'left')\n",
        "#beneficary_data_seq_6.drop(columns = ['policytype_x','policytype_y','sequence','personflag'], inplace = True)\n",
        "#beneficary_data_seq_6.rename(columns={\"relationshipcode\": \"relationshipcode_6\", \"percentshare\":\"percentshare_6\"},inplace = True)\n",
        "\n",
        "# beneficary relation 7\n",
        "#beneficary_data_seq_7 = beneficary_data[['policytype','policyno']].merge(beneficary_data[beneficary_data['sequence'] == '7'], on=['policyno'], how = 'left')\n",
        "#beneficary_data_seq_7.drop(columns = ['policytype_x','policytype_y','sequence','personflag'], inplace = True)\n",
        "#beneficary_data_seq_7.rename(columns={\"relationshipcode\": \"relationshipcode_7\", \"percentshare\":\"percentshare_7\"},inplace = True)\n",
        "\n",
        "# beneficary relation 8\n",
        "#beneficary_data_seq_8 = beneficary_data[['policytype','policyno']].merge(beneficary_data[beneficary_data['sequence'] =='8'], on=['policyno'], how = 'left')\n",
        "#beneficary_data_seq_8.drop(columns = ['policytype_x','policytype_y','sequence','personflag'], inplace = True)\n",
        "#beneficary_data_seq_8.rename(columns={\"relationshipcode\": \"relationshipcode_8\", \"percentshare\":\"percentshare_8\"},inplace = True)\n",
        "\n",
        "# beneficary relation 9\n",
        "#beneficary_data_seq_9 = beneficary_data[['policytype','policyno']].merge(beneficary_data[beneficary_data['sequence'] =='9'], on=['policyno'], how = 'left')\n",
        "#beneficary_data_seq_9.drop(columns = ['policytype_x','policytype_y','sequence','personflag'], inplace = True)\n",
        "#beneficary_data_seq_9.rename(columns={\"relationshipcode\": \"relationshipcode_9\", \"percentshare\":\"percentshare_9\"},inplace = True)"
      ],
      "outputs": [],
      "execution_count": 10,
      "metadata": {}
    },
    {
      "cell_type": "code",
      "source": [
        "#Delete object which not using.\n",
        "del claim_data \n",
        "del policy_info_data  \n",
        "del beneficary_data \n",
        "del customer_info_data"
      ],
      "outputs": [],
      "execution_count": 11,
      "metadata": {}
    },
    {
      "cell_type": "code",
      "source": [
        "from functools import reduce\n",
        "\n",
        "# mutiple join\n",
        "dfs = [beneficary_data_seq_1,beneficary_data_seq_2, beneficary_data_seq_3, beneficary_data_seq_4]\n",
        "beneficary_data_tran = reduce(lambda left,right: pd.merge(left,right,on='policyno'), dfs)"
      ],
      "outputs": [],
      "execution_count": 12,
      "metadata": {
        "scrolled": true
      }
    },
    {
      "cell_type": "code",
      "source": [
        "del beneficary_data_seq_1 \n",
        "del beneficary_data_seq_2\n",
        "del beneficary_data_seq_3\n",
        "del beneficary_data_seq_4\n",
        "del all_claim_data_step_1"
      ],
      "outputs": [],
      "execution_count": 13,
      "metadata": {}
    },
    {
      "cell_type": "markdown",
      "source": [
        "The main file is a \"policy_customer_claim_data\" "
      ],
      "metadata": {}
    },
    {
      "cell_type": "code",
      "source": [
        "all_claim_data_step_2.to_csv('Merge_claim_transaction.csv')"
      ],
      "outputs": [],
      "execution_count": 15,
      "metadata": {}
    },
    {
      "cell_type": "code",
      "source": [
        "beneficary_data_tran.to_csv('beneficary_data_tran.csv')"
      ],
      "outputs": [],
      "execution_count": 16,
      "metadata": {}
    },
    {
      "cell_type": "code",
      "source": [
        "# We need to split file . Becourse, my memory is out of bound."
      ],
      "outputs": [],
      "execution_count": 17,
      "metadata": {}
    },
    {
      "cell_type": "code",
      "source": [],
      "outputs": [],
      "execution_count": null,
      "metadata": {}
    }
  ],
  "metadata": {
    "kernelspec": {
      "display_name": "Python 3",
      "language": "python",
      "name": "python3"
    },
    "language_info": {
      "codemirror_mode": {
        "name": "ipython",
        "version": 3
      },
      "file_extension": ".py",
      "mimetype": "text/x-python",
      "name": "python",
      "nbconvert_exporter": "python",
      "pygments_lexer": "ipython3",
      "version": "3.7.3"
    },
    "nteract": {
      "version": "0.15.0"
    }
  },
  "nbformat": 4,
  "nbformat_minor": 2
}